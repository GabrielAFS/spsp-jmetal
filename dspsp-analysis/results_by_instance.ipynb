{
 "cells": [
  {
   "cell_type": "markdown",
   "metadata": {},
   "source": [
    "# Otimização por Múltiplos Enxames Aplicada ao Escalonamento Dinâmico de Projetos de Software"
   ]
  },
  {
   "cell_type": "code",
   "execution_count": 1,
   "metadata": {
    "scrolled": true
   },
   "outputs": [],
   "source": [
    "import numpy as np\n",
    "import pandas as pd\n",
    "import matplotlib.pyplot as plt\n",
    "\n",
    "from dspsp_analysis import (algorithm_dataset, instance_dataset, comparison_dataset, \n",
    "                            max_event, metrics_dataset, mean_hypervolume)\n",
    "\n",
    "%matplotlib inline\n",
    "\n",
    "data = metrics_dataset()\n",
    "instance_ids = list(data.instance.unique())\n",
    "algorithm_ids = list(data.algorithm.unique())\n",
    "\n",
    "instance_datasets = {}\n",
    "for inst in instance_ids:\n",
    "    ds = instance_dataset(data, inst, zero_values=True)\n",
    "    instance_datasets[inst] = {alg: algorithm_dataset(ds, alg, zero_values=True) for alg in algorithm_ids}\n",
    "\n",
    "comparison_datasets = {}\n",
    "for inst in instance_ids:\n",
    "    comparison_datasets[inst] = {alg: comparison_dataset(instance_datasets[inst][alg]) for alg in algorithm_ids}\n",
    "\n",
    "for inst in instance_ids:\n",
    "    min_event = min([max_event(ds) for ds in comparison_datasets[inst].values()])\n",
    "    for k in comparison_datasets[inst].keys():\n",
    "        comparison_datasets[inst][k] = comparison_datasets[inst][k][:min_event+1]\n"
   ]
  },
  {
   "cell_type": "code",
   "execution_count": 3,
   "metadata": {},
   "outputs": [
    {
     "data": {
      "text/html": [
       "<div>\n",
       "<style scoped>\n",
       "    .dataframe tbody tr th:only-of-type {\n",
       "        vertical-align: middle;\n",
       "    }\n",
       "\n",
       "    .dataframe tbody tr th {\n",
       "        vertical-align: top;\n",
       "    }\n",
       "\n",
       "    .dataframe thead th {\n",
       "        text-align: right;\n",
       "    }\n",
       "</style>\n",
       "<table border=\"1\" class=\"dataframe\">\n",
       "  <thead>\n",
       "    <tr style=\"text-align: right;\">\n",
       "      <th></th>\n",
       "      <th></th>\n",
       "      <th>mean</th>\n",
       "      <th>std</th>\n",
       "    </tr>\n",
       "    <tr>\n",
       "      <th>instance</th>\n",
       "      <th>algorithm</th>\n",
       "      <th></th>\n",
       "      <th></th>\n",
       "    </tr>\n",
       "  </thead>\n",
       "  <tbody>\n",
       "    <tr>\n",
       "      <th rowspan=\"3\" valign=\"top\">ST10_DT10_E10_SK4-5</th>\n",
       "      <th>NSGAII</th>\n",
       "      <td>0.147232</td>\n",
       "      <td>0.369198</td>\n",
       "    </tr>\n",
       "    <tr>\n",
       "      <th>NSGAIIDynamic</th>\n",
       "      <td>0.139585</td>\n",
       "      <td>0.369725</td>\n",
       "    </tr>\n",
       "    <tr>\n",
       "      <th>SMPSO</th>\n",
       "      <td>0.840048</td>\n",
       "      <td>0.461308</td>\n",
       "    </tr>\n",
       "    <tr>\n",
       "      <th rowspan=\"2\" valign=\"top\">ST10_DT10_E15_SK4-5</th>\n",
       "      <th>NSGAII</th>\n",
       "      <td>0.072742</td>\n",
       "      <td>0.261099</td>\n",
       "    </tr>\n",
       "    <tr>\n",
       "      <th>NSGAIIDynamic</th>\n",
       "      <td>0.089373</td>\n",
       "      <td>0.297751</td>\n",
       "    </tr>\n",
       "    <tr>\n",
       "      <th rowspan=\"3\" valign=\"top\">ST10_DT10_E5_SK4-5</th>\n",
       "      <th>NSGAII</th>\n",
       "      <td>0.175602</td>\n",
       "      <td>0.384316</td>\n",
       "    </tr>\n",
       "    <tr>\n",
       "      <th>NSGAIIDynamic</th>\n",
       "      <td>0.158632</td>\n",
       "      <td>0.381376</td>\n",
       "    </tr>\n",
       "    <tr>\n",
       "      <th>SMPSO</th>\n",
       "      <td>0.890150</td>\n",
       "      <td>0.535254</td>\n",
       "    </tr>\n",
       "    <tr>\n",
       "      <th rowspan=\"2\" valign=\"top\">ST10_DT10_E5_SK6-7</th>\n",
       "      <th>NSGAII</th>\n",
       "      <td>0.022523</td>\n",
       "      <td>0.144296</td>\n",
       "    </tr>\n",
       "    <tr>\n",
       "      <th>NSGAIIDynamic</th>\n",
       "      <td>0.034787</td>\n",
       "      <td>0.200220</td>\n",
       "    </tr>\n",
       "  </tbody>\n",
       "</table>\n",
       "</div>"
      ],
      "text/plain": [
       "                                       mean       std\n",
       "instance            algorithm                        \n",
       "ST10_DT10_E10_SK4-5 NSGAII         0.147232  0.369198\n",
       "                    NSGAIIDynamic  0.139585  0.369725\n",
       "                    SMPSO          0.840048  0.461308\n",
       "ST10_DT10_E15_SK4-5 NSGAII         0.072742  0.261099\n",
       "                    NSGAIIDynamic  0.089373  0.297751\n",
       "ST10_DT10_E5_SK4-5  NSGAII         0.175602  0.384316\n",
       "                    NSGAIIDynamic  0.158632  0.381376\n",
       "                    SMPSO          0.890150  0.535254\n",
       "ST10_DT10_E5_SK6-7  NSGAII         0.022523  0.144296\n",
       "                    NSGAIIDynamic  0.034787  0.200220"
      ]
     },
     "execution_count": 3,
     "metadata": {},
     "output_type": "execute_result"
    }
   ],
   "source": [
    "mean_hypervolume(data)"
   ]
  },
  {
   "cell_type": "code",
   "execution_count": 9,
   "metadata": {},
   "outputs": [
    {
     "data": {
      "text/plain": [
       "MultiIndex(levels=[['ST10_DT10_E10_SK4-5', 'ST10_DT10_E15_SK4-5', 'ST10_DT10_E5_SK4-5', 'ST10_DT10_E5_SK6-7'], ['NSGAII', 'NSGAIIDynamic', 'SMPSO']],\n",
       "           labels=[[0, 0, 0, 1, 1, 2, 2, 2, 3, 3], [0, 1, 2, 0, 1, 0, 1, 2, 0, 1]],\n",
       "           names=['instance', 'algorithm'])"
      ]
     },
     "execution_count": 9,
     "metadata": {},
     "output_type": "execute_result"
    }
   ],
   "source": [
    "mean_hypervolume(data).index"
   ]
  },
  {
   "cell_type": "code",
   "execution_count": null,
   "metadata": {},
   "outputs": [],
   "source": [
    "comparison_datasets[\"ST10_DT10_E5_SK4-5\"][\"NSGAII\"].tail()"
   ]
  },
  {
   "cell_type": "code",
   "execution_count": null,
   "metadata": {
    "scrolled": true
   },
   "outputs": [],
   "source": [
    "comparison_datasets[\"ST10_DT10_E5_SK4-5\"][\"NSGAIIDynamic\"].tail()"
   ]
  },
  {
   "cell_type": "code",
   "execution_count": null,
   "metadata": {},
   "outputs": [],
   "source": [
    "comparison_datasets[\"ST10_DT10_E5_SK4-5\"][\"SMPSO\"].tail()"
   ]
  },
  {
   "cell_type": "code",
   "execution_count": null,
   "metadata": {},
   "outputs": [],
   "source": [
    "comparison_datasets[\"ST10_DT10_E5_SK4-5\"][\"SMPSO\"].hypervolume.mean()"
   ]
  },
  {
   "cell_type": "markdown",
   "metadata": {},
   "source": [
    "Geração dos gráficos comparativos"
   ]
  },
  {
   "cell_type": "code",
   "execution_count": null,
   "metadata": {},
   "outputs": [],
   "source": [
    "# f, (ax1, ax2) = plt.subplots(1, 2, sharey=True)\n",
    "\n",
    "plt.title(\"NSGA-II x NSGA-II Dinamico\")\n",
    "plt.xlabel(\"Eventos dinâmicos (pontos de reescalonamento)\")\n",
    "plt.ylabel(\"Hipervolume\")\n",
    "plt.plot(datasets[\"nsgaii\"].event, datasets[\"nsgaii\"].hypervolume, \"-ro\", markersize=3, lw=.5, label=\"NSGAII\")\n",
    "plt.plot(datasets[\"nsgaii_dyn\"].event, datasets[\"nsgaii_dyn\"].hypervolume, \"-go\", markersize=3, lw=.5, label=\"NSGAIIDyn\")\n",
    "plt.legend()\n",
    "plt.show()"
   ]
  },
  {
   "cell_type": "code",
   "execution_count": null,
   "metadata": {},
   "outputs": [],
   "source": [
    "plt.title(\"SMPSO x SMPSO Dinamico\")\n",
    "plt.xlabel(\"Eventos dinâmicos (pontos de reescalonamento)\")\n",
    "plt.ylabel(\"Hipervolume\")\n",
    "plt.plot(datasets[\"smpso\"].event, datasets[\"smpso\"].hypervolume, \"-ro\", markersize=3, lw=.5, label=\"SMPSO\")\n",
    "plt.plot(datasets[\"smpso_dyn\"].event, datasets[\"smpso_dyn\"].hypervolume, \"-go\", markersize=3, lw=.5, label=\"SMPSODyn\")\n",
    "plt.legend()\n",
    "plt.show()"
   ]
  },
  {
   "cell_type": "code",
   "execution_count": null,
   "metadata": {},
   "outputs": [],
   "source": [
    "plt.title(\"NSGA-II x SMPSO\")\n",
    "plt.xlabel(\"Eventos dinâmicos (pontos de reescalonamento)\")\n",
    "plt.ylabel(\"Hipervolume\")\n",
    "plt.plot(datasets[\"nsgaii\"].event, datasets[\"nsgaii\"].hypervolume, \"-ro\", markersize=3, lw=.5, label=\"NSGAII\")\n",
    "plt.plot(datasets[\"smpso\"].event, datasets[\"smpso\"].hypervolume, \"-go\", markersize=3, lw=.5, label=\"SMPSO\")\n",
    "plt.legend()\n",
    "plt.show()"
   ]
  },
  {
   "cell_type": "code",
   "execution_count": null,
   "metadata": {},
   "outputs": [],
   "source": [
    "plt.title(\"NSGA-II Dinamico x SMPSO Dinamico\")\n",
    "plt.xlabel(\"Eventos dinâmicos (pontos de reescalonamento)\")\n",
    "plt.ylabel(\"Hipervolume\")\n",
    "plt.plot(datasets[\"nsgaii_dyn\"].event, datasets[\"nsgaii_dyn\"].hypervolume, \"-ro\", markersize=3, lw=.5, label=\"NSGAIIDyn\")\n",
    "plt.plot(datasets[\"smpso_dyn\"].event, datasets[\"smpso_dyn\"].hypervolume, \"-go\", markersize=3, lw=.5, label=\"SMPSODyn\")\n",
    "plt.legend()\n",
    "plt.show()"
   ]
  },
  {
   "cell_type": "code",
   "execution_count": null,
   "metadata": {},
   "outputs": [],
   "source": []
  }
 ],
 "metadata": {
  "kernelspec": {
   "display_name": "dspsp-analysis",
   "language": "python",
   "name": "dspsp-analysis"
  },
  "language_info": {
   "codemirror_mode": {
    "name": "ipython",
    "version": 3
   },
   "file_extension": ".py",
   "mimetype": "text/x-python",
   "name": "python",
   "nbconvert_exporter": "python",
   "pygments_lexer": "ipython3",
   "version": "3.6.3"
  }
 },
 "nbformat": 4,
 "nbformat_minor": 2
}
