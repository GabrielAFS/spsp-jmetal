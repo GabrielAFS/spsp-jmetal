{
 "cells": [
  {
   "cell_type": "markdown",
   "metadata": {},
   "source": [
    "# Otimização por Múltiplos Enxames Aplicada ao Escalonamento Dinâmico de Projetos de Software"
   ]
  },
  {
   "cell_type": "code",
   "execution_count": 1,
   "metadata": {
    "scrolled": true
   },
   "outputs": [],
   "source": [
    "import numpy as np\n",
    "import pandas as pd\n",
    "import matplotlib.pyplot as plt\n",
    "\n",
    "from dspsp_analysis import (algorithm_dataset, instance_dataset, comparison_dataset, \n",
    "                            max_event, metrics_dataset, mean_hypervolume)\n",
    "\n",
    "%matplotlib inline\n",
    "\n",
    "data = metrics_dataset()\n",
    "instance_ids = list(data.instance.unique())\n",
    "algorithm_ids = list(data.algorithm.unique())\n",
    "\n",
    "instance_datasets = {}\n",
    "for inst in instance_ids:\n",
    "    ds = instance_dataset(data, inst, zero_values=True)\n",
    "    instance_datasets[inst] = {alg: algorithm_dataset(ds, alg, zero_values=True) for alg in algorithm_ids}\n",
    "\n",
    "comparison_datasets = {}\n",
    "for inst in instance_ids:\n",
    "    comparison_datasets[inst] = {alg: comparison_dataset(instance_datasets[inst][alg]) for alg in algorithm_ids}\n",
    "\n",
    "for inst in instance_ids:\n",
    "    min_event = min([max_event(ds) for ds in comparison_datasets[inst].values()])\n",
    "    for k in comparison_datasets[inst].keys():\n",
    "        comparison_datasets[inst][k] = comparison_datasets[inst][k][:min_event+1]\n"
   ]
  },
  {
   "cell_type": "code",
   "execution_count": 2,
   "metadata": {},
   "outputs": [
    {
     "data": {
      "text/html": [
       "<div>\n",
       "<style scoped>\n",
       "    .dataframe tbody tr th:only-of-type {\n",
       "        vertical-align: middle;\n",
       "    }\n",
       "\n",
       "    .dataframe tbody tr th {\n",
       "        vertical-align: top;\n",
       "    }\n",
       "\n",
       "    .dataframe thead th {\n",
       "        text-align: right;\n",
       "    }\n",
       "</style>\n",
       "<table border=\"1\" class=\"dataframe\">\n",
       "  <thead>\n",
       "    <tr style=\"text-align: right;\">\n",
       "      <th></th>\n",
       "      <th></th>\n",
       "      <th>mean</th>\n",
       "      <th>std</th>\n",
       "    </tr>\n",
       "    <tr>\n",
       "      <th>instance</th>\n",
       "      <th>algorithm</th>\n",
       "      <th></th>\n",
       "      <th></th>\n",
       "    </tr>\n",
       "  </thead>\n",
       "  <tbody>\n",
       "    <tr>\n",
       "      <th rowspan=\"3\" valign=\"top\">ST10_DT10_E10_SK4-5</th>\n",
       "      <th>NSGAII</th>\n",
       "      <td>0.147232</td>\n",
       "      <td>0.369198</td>\n",
       "    </tr>\n",
       "    <tr>\n",
       "      <th>NSGAIIDynamic</th>\n",
       "      <td>0.139585</td>\n",
       "      <td>0.369725</td>\n",
       "    </tr>\n",
       "    <tr>\n",
       "      <th>SMPSO</th>\n",
       "      <td>0.840048</td>\n",
       "      <td>0.461308</td>\n",
       "    </tr>\n",
       "    <tr>\n",
       "      <th rowspan=\"2\" valign=\"top\">ST10_DT10_E15_SK4-5</th>\n",
       "      <th>NSGAII</th>\n",
       "      <td>0.072742</td>\n",
       "      <td>0.261099</td>\n",
       "    </tr>\n",
       "    <tr>\n",
       "      <th>NSGAIIDynamic</th>\n",
       "      <td>0.089373</td>\n",
       "      <td>0.297751</td>\n",
       "    </tr>\n",
       "    <tr>\n",
       "      <th rowspan=\"3\" valign=\"top\">ST10_DT10_E5_SK4-5</th>\n",
       "      <th>NSGAII</th>\n",
       "      <td>0.175602</td>\n",
       "      <td>0.384316</td>\n",
       "    </tr>\n",
       "    <tr>\n",
       "      <th>NSGAIIDynamic</th>\n",
       "      <td>0.158632</td>\n",
       "      <td>0.381376</td>\n",
       "    </tr>\n",
       "    <tr>\n",
       "      <th>SMPSO</th>\n",
       "      <td>0.890150</td>\n",
       "      <td>0.535254</td>\n",
       "    </tr>\n",
       "    <tr>\n",
       "      <th rowspan=\"2\" valign=\"top\">ST10_DT10_E5_SK6-7</th>\n",
       "      <th>NSGAII</th>\n",
       "      <td>0.022523</td>\n",
       "      <td>0.144296</td>\n",
       "    </tr>\n",
       "    <tr>\n",
       "      <th>NSGAIIDynamic</th>\n",
       "      <td>0.034787</td>\n",
       "      <td>0.200220</td>\n",
       "    </tr>\n",
       "  </tbody>\n",
       "</table>\n",
       "</div>"
      ],
      "text/plain": [
       "                                       mean       std\n",
       "instance            algorithm                        \n",
       "ST10_DT10_E10_SK4-5 NSGAII         0.147232  0.369198\n",
       "                    NSGAIIDynamic  0.139585  0.369725\n",
       "                    SMPSO          0.840048  0.461308\n",
       "ST10_DT10_E15_SK4-5 NSGAII         0.072742  0.261099\n",
       "                    NSGAIIDynamic  0.089373  0.297751\n",
       "ST10_DT10_E5_SK4-5  NSGAII         0.175602  0.384316\n",
       "                    NSGAIIDynamic  0.158632  0.381376\n",
       "                    SMPSO          0.890150  0.535254\n",
       "ST10_DT10_E5_SK6-7  NSGAII         0.022523  0.144296\n",
       "                    NSGAIIDynamic  0.034787  0.200220"
      ]
     },
     "execution_count": 2,
     "metadata": {},
     "output_type": "execute_result"
    }
   ],
   "source": [
    "mean_hypervolume(data)"
   ]
  },
  {
   "cell_type": "code",
   "execution_count": 3,
   "metadata": {},
   "outputs": [
    {
     "data": {
      "text/plain": [
       "MultiIndex(levels=[['ST10_DT10_E10_SK4-5', 'ST10_DT10_E15_SK4-5', 'ST10_DT10_E5_SK4-5', 'ST10_DT10_E5_SK6-7'], ['NSGAII', 'NSGAIIDynamic', 'SMPSO']],\n",
       "           labels=[[0, 0, 0, 1, 1, 2, 2, 2, 3, 3], [0, 1, 2, 0, 1, 0, 1, 2, 0, 1]],\n",
       "           names=['instance', 'algorithm'])"
      ]
     },
     "execution_count": 3,
     "metadata": {},
     "output_type": "execute_result"
    }
   ],
   "source": [
    "mean_hypervolume(data).index"
   ]
  },
  {
   "cell_type": "code",
   "execution_count": 4,
   "metadata": {},
   "outputs": [
    {
     "data": {
      "text/html": [
       "<div>\n",
       "<style scoped>\n",
       "    .dataframe tbody tr th:only-of-type {\n",
       "        vertical-align: middle;\n",
       "    }\n",
       "\n",
       "    .dataframe tbody tr th {\n",
       "        vertical-align: top;\n",
       "    }\n",
       "\n",
       "    .dataframe thead th {\n",
       "        text-align: right;\n",
       "    }\n",
       "</style>\n",
       "<table border=\"1\" class=\"dataframe\">\n",
       "  <thead>\n",
       "    <tr style=\"text-align: right;\">\n",
       "      <th></th>\n",
       "      <th>algorithm</th>\n",
       "      <th>event</th>\n",
       "      <th>hypervolume</th>\n",
       "    </tr>\n",
       "  </thead>\n",
       "  <tbody>\n",
       "    <tr>\n",
       "      <th>177</th>\n",
       "      <td>NSGAII</td>\n",
       "      <td>177</td>\n",
       "      <td>0.469768</td>\n",
       "    </tr>\n",
       "    <tr>\n",
       "      <th>178</th>\n",
       "      <td>NSGAII</td>\n",
       "      <td>178</td>\n",
       "      <td>0.795722</td>\n",
       "    </tr>\n",
       "    <tr>\n",
       "      <th>179</th>\n",
       "      <td>NSGAII</td>\n",
       "      <td>179</td>\n",
       "      <td>0.895040</td>\n",
       "    </tr>\n",
       "    <tr>\n",
       "      <th>180</th>\n",
       "      <td>NSGAII</td>\n",
       "      <td>180</td>\n",
       "      <td>0.965737</td>\n",
       "    </tr>\n",
       "    <tr>\n",
       "      <th>181</th>\n",
       "      <td>NSGAII</td>\n",
       "      <td>181</td>\n",
       "      <td>0.000000</td>\n",
       "    </tr>\n",
       "  </tbody>\n",
       "</table>\n",
       "</div>"
      ],
      "text/plain": [
       "    algorithm  event  hypervolume\n",
       "177    NSGAII    177     0.469768\n",
       "178    NSGAII    178     0.795722\n",
       "179    NSGAII    179     0.895040\n",
       "180    NSGAII    180     0.965737\n",
       "181    NSGAII    181     0.000000"
      ]
     },
     "execution_count": 4,
     "metadata": {},
     "output_type": "execute_result"
    }
   ],
   "source": [
    "comparison_datasets[\"ST10_DT10_E5_SK4-5\"][\"NSGAII\"].tail()"
   ]
  },
  {
   "cell_type": "code",
   "execution_count": 5,
   "metadata": {
    "scrolled": true
   },
   "outputs": [
    {
     "data": {
      "text/html": [
       "<div>\n",
       "<style scoped>\n",
       "    .dataframe tbody tr th:only-of-type {\n",
       "        vertical-align: middle;\n",
       "    }\n",
       "\n",
       "    .dataframe tbody tr th {\n",
       "        vertical-align: top;\n",
       "    }\n",
       "\n",
       "    .dataframe thead th {\n",
       "        text-align: right;\n",
       "    }\n",
       "</style>\n",
       "<table border=\"1\" class=\"dataframe\">\n",
       "  <thead>\n",
       "    <tr style=\"text-align: right;\">\n",
       "      <th></th>\n",
       "      <th>algorithm</th>\n",
       "      <th>event</th>\n",
       "      <th>hypervolume</th>\n",
       "    </tr>\n",
       "  </thead>\n",
       "  <tbody>\n",
       "    <tr>\n",
       "      <th>177</th>\n",
       "      <td>NSGAIIDynamic</td>\n",
       "      <td>177</td>\n",
       "      <td>0.314716</td>\n",
       "    </tr>\n",
       "    <tr>\n",
       "      <th>178</th>\n",
       "      <td>NSGAIIDynamic</td>\n",
       "      <td>178</td>\n",
       "      <td>0.300242</td>\n",
       "    </tr>\n",
       "    <tr>\n",
       "      <th>179</th>\n",
       "      <td>NSGAIIDynamic</td>\n",
       "      <td>179</td>\n",
       "      <td>0.295798</td>\n",
       "    </tr>\n",
       "    <tr>\n",
       "      <th>180</th>\n",
       "      <td>NSGAIIDynamic</td>\n",
       "      <td>180</td>\n",
       "      <td>0.321847</td>\n",
       "    </tr>\n",
       "    <tr>\n",
       "      <th>181</th>\n",
       "      <td>NSGAIIDynamic</td>\n",
       "      <td>181</td>\n",
       "      <td>0.367390</td>\n",
       "    </tr>\n",
       "  </tbody>\n",
       "</table>\n",
       "</div>"
      ],
      "text/plain": [
       "         algorithm  event  hypervolume\n",
       "177  NSGAIIDynamic    177     0.314716\n",
       "178  NSGAIIDynamic    178     0.300242\n",
       "179  NSGAIIDynamic    179     0.295798\n",
       "180  NSGAIIDynamic    180     0.321847\n",
       "181  NSGAIIDynamic    181     0.367390"
      ]
     },
     "execution_count": 5,
     "metadata": {},
     "output_type": "execute_result"
    }
   ],
   "source": [
    "comparison_datasets[\"ST10_DT10_E5_SK4-5\"][\"NSGAIIDynamic\"].tail()"
   ]
  },
  {
   "cell_type": "code",
   "execution_count": 6,
   "metadata": {},
   "outputs": [
    {
     "data": {
      "text/html": [
       "<div>\n",
       "<style scoped>\n",
       "    .dataframe tbody tr th:only-of-type {\n",
       "        vertical-align: middle;\n",
       "    }\n",
       "\n",
       "    .dataframe tbody tr th {\n",
       "        vertical-align: top;\n",
       "    }\n",
       "\n",
       "    .dataframe thead th {\n",
       "        text-align: right;\n",
       "    }\n",
       "</style>\n",
       "<table border=\"1\" class=\"dataframe\">\n",
       "  <thead>\n",
       "    <tr style=\"text-align: right;\">\n",
       "      <th></th>\n",
       "      <th>algorithm</th>\n",
       "      <th>event</th>\n",
       "      <th>hypervolume</th>\n",
       "    </tr>\n",
       "  </thead>\n",
       "  <tbody>\n",
       "    <tr>\n",
       "      <th>177</th>\n",
       "      <td>SMPSO</td>\n",
       "      <td>177</td>\n",
       "      <td>0.812784</td>\n",
       "    </tr>\n",
       "    <tr>\n",
       "      <th>178</th>\n",
       "      <td>SMPSO</td>\n",
       "      <td>178</td>\n",
       "      <td>1.332166</td>\n",
       "    </tr>\n",
       "    <tr>\n",
       "      <th>179</th>\n",
       "      <td>SMPSO</td>\n",
       "      <td>179</td>\n",
       "      <td>1.236645</td>\n",
       "    </tr>\n",
       "    <tr>\n",
       "      <th>180</th>\n",
       "      <td>SMPSO</td>\n",
       "      <td>180</td>\n",
       "      <td>0.975271</td>\n",
       "    </tr>\n",
       "    <tr>\n",
       "      <th>181</th>\n",
       "      <td>SMPSO</td>\n",
       "      <td>181</td>\n",
       "      <td>1.207436</td>\n",
       "    </tr>\n",
       "  </tbody>\n",
       "</table>\n",
       "</div>"
      ],
      "text/plain": [
       "    algorithm  event  hypervolume\n",
       "177     SMPSO    177     0.812784\n",
       "178     SMPSO    178     1.332166\n",
       "179     SMPSO    179     1.236645\n",
       "180     SMPSO    180     0.975271\n",
       "181     SMPSO    181     1.207436"
      ]
     },
     "execution_count": 6,
     "metadata": {},
     "output_type": "execute_result"
    }
   ],
   "source": [
    "comparison_datasets[\"ST10_DT10_E5_SK4-5\"][\"SMPSO\"].tail()"
   ]
  },
  {
   "cell_type": "markdown",
   "metadata": {},
   "source": [
    "Geração dos gráficos comparativos"
   ]
  },
  {
   "cell_type": "code",
   "execution_count": 9,
   "metadata": {},
   "outputs": [
    {
     "data": {
      "image/png": "[encoded data removed]",
      "text/plain": [
       "<Figure size 432x288 with 1 Axes>"
      ]
     },
     "metadata": {},
     "output_type": "display_data"
    }
   ],
   "source": [
    "plt.title(\"NSGA-II x NSGA-II Dinamico\")\n",
    "plt.xlabel(\"Eventos dinâmicos (pontos de reescalonamento)\")\n",
    "plt.ylabel(\"Hipervolume\")\n",
    "plt.plot(comparison_datasets[\"ST10_DT10_E5_SK4-5\"][\"NSGAII\"].event, comparison_datasets[\"ST10_DT10_E5_SK4-5\"][\"NSGAII\"].hypervolume, \"-ro\", markersize=3, lw=.5, label=\"NSGAII\")\n",
    "plt.plot(comparison_datasets[\"ST10_DT10_E5_SK4-5\"][\"NSGAIIDynamic\"].event, comparison_datasets[\"ST10_DT10_E5_SK4-5\"][\"NSGAIIDynamic\"].hypervolume, \"-go\", markersize=3, lw=.5, label=\"NSGAIIDyn\")\n",
    "plt.legend()\n",
    "plt.show()"
   ]
  },
  {
   "cell_type": "code",
   "execution_count": null,
   "metadata": {},
   "outputs": [],
   "source": [
    "plt.title(\"SMPSO x SMPSO Dinamico\")\n",
    "plt.xlabel(\"Eventos dinâmicos (pontos de reescalonamento)\")\n",
    "plt.ylabel(\"Hipervolume\")\n",
    "plt.plot(datasets[\"smpso\"].event, datasets[\"smpso\"].hypervolume, \"-ro\", markersize=3, lw=.5, label=\"SMPSO\")\n",
    "plt.plot(datasets[\"smpso_dyn\"].event, datasets[\"smpso_dyn\"].hypervolume, \"-go\", markersize=3, lw=.5, label=\"SMPSODyn\")\n",
    "plt.legend()\n",
    "plt.show()"
   ]
  },
  {
   "cell_type": "code",
   "execution_count": null,
   "metadata": {},
   "outputs": [],
   "source": [
    "plt.title(\"NSGA-II x SMPSO\")\n",
    "plt.xlabel(\"Eventos dinâmicos (pontos de reescalonamento)\")\n",
    "plt.ylabel(\"Hipervolume\")\n",
    "plt.plot(datasets[\"nsgaii\"].event, datasets[\"nsgaii\"].hypervolume, \"-ro\", markersize=3, lw=.5, label=\"NSGAII\")\n",
    "plt.plot(datasets[\"smpso\"].event, datasets[\"smpso\"].hypervolume, \"-go\", markersize=3, lw=.5, label=\"SMPSO\")\n",
    "plt.legend()\n",
    "plt.show()"
   ]
  },
  {
   "cell_type": "code",
   "execution_count": null,
   "metadata": {},
   "outputs": [],
   "source": [
    "plt.title(\"NSGA-II Dinamico x SMPSO Dinamico\")\n",
    "plt.xlabel(\"Eventos dinâmicos (pontos de reescalonamento)\")\n",
    "plt.ylabel(\"Hipervolume\")\n",
    "plt.plot(datasets[\"nsgaii_dyn\"].event, datasets[\"nsgaii_dyn\"].hypervolume, \"-ro\", markersize=3, lw=.5, label=\"NSGAIIDyn\")\n",
    "plt.plot(datasets[\"smpso_dyn\"].event, datasets[\"smpso_dyn\"].hypervolume, \"-go\", markersize=3, lw=.5, label=\"SMPSODyn\")\n",
    "plt.legend()\n",
    "plt.show()"
   ]
  },
  {
   "cell_type": "code",
   "execution_count": null,
   "metadata": {},
   "outputs": [],
   "source": []
  }
 ],
 "metadata": {
  "kernelspec": {
   "display_name": "dspsp-analysis",
   "language": "python",
   "name": "dspsp-analysis"
  },
  "language_info": {
   "codemirror_mode": {
    "name": "ipython",
    "version": 3
   },
   "file_extension": ".py",
   "mimetype": "text/x-python",
   "name": "python",
   "nbconvert_exporter": "python",
   "pygments_lexer": "ipython3",
   "version": "3.6.3"
  }
 },
 "nbformat": 4,
 "nbformat_minor": 2
}
