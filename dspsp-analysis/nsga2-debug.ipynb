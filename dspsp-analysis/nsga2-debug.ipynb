{
 "cells": [
  {
   "cell_type": "markdown",
   "metadata": {},
   "source": [
    "# Otimização por Múltiplos Enxames Aplicada ao Escalonamento Dinâmico de Projetos de Software\n",
    "\n",
    "\n",
    "### QP2. Como o desempenho do algoritmo proposto se compara ao de algoritmos da literatura quando aplicados ao DSPSP?"
   ]
  },
  {
   "cell_type": "code",
   "execution_count": 1,
   "metadata": {},
   "outputs": [],
   "source": [
    "import numpy as np\n",
    "import pandas as pd\n",
    "import matplotlib.pyplot as plt\n",
    "import seaborn as sns\n",
    "from scipy.stats import wilcoxon\n",
    "\n",
    "from dspsp_analysis import (algorithm_dataset, instance_dataset, comparison_dataset, \n",
    "                            max_event, metrics_dataset, mean_hypervolume, median_hypervolume)\n",
    "\n",
    "%matplotlib inline\n",
    "\n",
    "data = metrics_dataset(filepath=\"../hypervolume/metrics-nsgaii-debug.csv\")\n",
    "instance_ids = list(data.instance.unique())\n",
    "algorithm_ids = list(data.algorithm.unique())"
   ]
  },
  {
   "cell_type": "code",
   "execution_count": 2,
   "metadata": {},
   "outputs": [],
   "source": [
    "instance_datasets = {}\n",
    "for inst in instance_ids:\n",
    "    ds = instance_dataset(data, inst, zero_values=True)\n",
    "    instance_datasets[inst] = {alg: algorithm_dataset(ds, alg, zero_values=True) for alg in algorithm_ids}"
   ]
  },
  {
   "cell_type": "code",
   "execution_count": 3,
   "metadata": {},
   "outputs": [],
   "source": [
    "comparison_datasets = {}\n",
    "for inst in instance_ids:\n",
    "    comparison_datasets[inst] = {alg: comparison_dataset(instance_datasets[inst][alg]) for alg in algorithm_ids}\n"
   ]
  },
  {
   "cell_type": "code",
   "execution_count": 4,
   "metadata": {},
   "outputs": [],
   "source": [
    "for inst in instance_ids:\n",
    "    min_event = min([max_event(ds) for ds in comparison_datasets[inst].values()])\n",
    "    for k in comparison_datasets[inst].keys():\n",
    "        comparison_datasets[inst][k] = comparison_datasets[inst][k][:min_event+1]\n",
    "        "
   ]
  },
  {
   "cell_type": "code",
   "execution_count": 31,
   "metadata": {},
   "outputs": [
    {
     "data": {
      "text/html": [
       "<div>\n",
       "<style scoped>\n",
       "    .dataframe tbody tr th:only-of-type {\n",
       "        vertical-align: middle;\n",
       "    }\n",
       "\n",
       "    .dataframe tbody tr th {\n",
       "        vertical-align: top;\n",
       "    }\n",
       "\n",
       "    .dataframe thead th {\n",
       "        text-align: right;\n",
       "    }\n",
       "</style>\n",
       "<table border=\"1\" class=\"dataframe\">\n",
       "  <thead>\n",
       "    <tr style=\"text-align: right;\">\n",
       "      <th></th>\n",
       "      <th>instance</th>\n",
       "      <th>algorithm</th>\n",
       "      <th>mean</th>\n",
       "      <th>std</th>\n",
       "    </tr>\n",
       "  </thead>\n",
       "  <tbody>\n",
       "    <tr>\n",
       "      <th>0</th>\n",
       "      <td>ST10_DT10_E5_SK4-5</td>\n",
       "      <td>NSGAII-v1</td>\n",
       "      <td>0.181267</td>\n",
       "      <td>0.421255</td>\n",
       "    </tr>\n",
       "    <tr>\n",
       "      <th>1</th>\n",
       "      <td>ST10_DT10_E5_SK4-5</td>\n",
       "      <td>NSGAII-v2</td>\n",
       "      <td>0.668134</td>\n",
       "      <td>0.416010</td>\n",
       "    </tr>\n",
       "    <tr>\n",
       "      <th>2</th>\n",
       "      <td>ST10_DT10_E5_SK4-5</td>\n",
       "      <td>NSGAII-v3</td>\n",
       "      <td>0.710473</td>\n",
       "      <td>0.448105</td>\n",
       "    </tr>\n",
       "    <tr>\n",
       "      <th>3</th>\n",
       "      <td>ST10_DT10_E5_SK4-5</td>\n",
       "      <td>NSGAIIDynamic-v3</td>\n",
       "      <td>0.681946</td>\n",
       "      <td>0.417280</td>\n",
       "    </tr>\n",
       "  </tbody>\n",
       "</table>\n",
       "</div>"
      ],
      "text/plain": [
       "             instance         algorithm      mean       std\n",
       "0  ST10_DT10_E5_SK4-5         NSGAII-v1  0.181267  0.421255\n",
       "1  ST10_DT10_E5_SK4-5         NSGAII-v2  0.668134  0.416010\n",
       "2  ST10_DT10_E5_SK4-5         NSGAII-v3  0.710473  0.448105\n",
       "3  ST10_DT10_E5_SK4-5  NSGAIIDynamic-v3  0.681946  0.417280"
      ]
     },
     "execution_count": 31,
     "metadata": {},
     "output_type": "execute_result"
    }
   ],
   "source": [
    "cmp = mean_hypervolume(data)\n",
    "cmp = cmp.reset_index()\n",
    "cmp"
   ]
  },
  {
   "cell_type": "markdown",
   "metadata": {},
   "source": [
    "#### Gráficos comparativos"
   ]
  },
  {
   "cell_type": "code",
   "execution_count": 33,
   "metadata": {},
   "outputs": [
    {
     "data": {
      "image/png": "[encoded data removed]",
      "text/plain": [
       "<Figure size 576x360 with 1 Axes>"
      ]
     },
     "metadata": {},
     "output_type": "display_data"
    }
   ],
   "source": [
    "fig, ax = plt.subplots(figsize=(8, 5))\n",
    "bars = plt.bar(cmp['algorithm'], cmp[\"mean\"], align='center', width=0.6)\n",
    "for bar, c in zip(bars, \"rgby\"):\n",
    "    bar.set_color(c)\n",
    "ax.set_xticks(index)\n",
    "ax.set_xticklabels(cmp_labels)\n",
    "plt.grid(axis=\"y\", linestyle=\"dashed\")\n",
    "plt.xlabel(\"Algoritmos\")\n",
    "plt.ylabel(\"Média do Hipervolume\")\n",
    "plt.show()\n"
   ]
  },
  {
   "cell_type": "code",
   "execution_count": 35,
   "metadata": {},
   "outputs": [
    {
     "data": {
      "text/plain": [
       "<matplotlib.axes._subplots.AxesSubplot at 0x10f7cf438>"
      ]
     },
     "execution_count": 35,
     "metadata": {},
     "output_type": "execute_result"
    },
    {
     "data": {
      "image/png": "[encoded data removed]",
      "text/plain": [
       "<Figure size 576x360 with 1 Axes>"
      ]
     },
     "metadata": {},
     "output_type": "display_data"
    }
   ],
   "source": [
    "sns.set_style(\"whitegrid\")\n",
    "# https://seaborn.pydata.org/tutorial/aesthetics.html?highlight=image%20size#scaling-plot-elements\n",
    "sns.set_context(\"notebook\")\n",
    "fig, ax = plt.subplots(figsize=(8, 5))\n",
    "sns.barplot(ax=ax, x=\"algorithm\", y=\"mean\", data=cmp)"
   ]
  },
  {
   "cell_type": "code",
   "execution_count": null,
   "metadata": {},
   "outputs": [],
   "source": []
  }
 ],
 "metadata": {
  "kernelspec": {
   "display_name": "dspsp-analysis",
   "language": "python",
   "name": "dspsp-analysis"
  },
  "language_info": {
   "codemirror_mode": {
    "name": "ipython",
    "version": 3
   },
   "file_extension": ".py",
   "mimetype": "text/x-python",
   "name": "python",
   "nbconvert_exporter": "python",
   "pygments_lexer": "ipython3",
   "version": "3.6.3"
  }
 },
 "nbformat": 4,
 "nbformat_minor": 2
}
